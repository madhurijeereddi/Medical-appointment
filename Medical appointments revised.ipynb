{
 "cells": [
  {
   "cell_type": "markdown",
   "id": "e1d3503d",
   "metadata": {},
   "source": [
    "## Introduction:-"
   ]
  },
  {
   "cell_type": "code",
   "execution_count": 1,
   "id": "795e3dce",
   "metadata": {},
   "outputs": [],
   "source": [
    "# I have selected No-show appointments datasets.It is a collection of information from 100k medical appointments in Braz, \n",
    "# The data shows patient information like their age,gender,neighbourhood,health.\n",
    "# By using this datasets we can find out the different reason for no-show from patients.\n",
    "# Que:1  Are patients not making it to their appointment due to failed sms delivery?\n",
    "# Que:2  Which day has the highest no shows?\n",
    "# Que:3  Which neighborhoods have the highest number of no-shows and shows? "
   ]
  },
  {
   "cell_type": "markdown",
   "id": "00181228",
   "metadata": {},
   "source": [
    "## Data Wrangling:-"
   ]
  },
  {
   "cell_type": "code",
   "execution_count": 2,
   "id": "554b7100",
   "metadata": {},
   "outputs": [],
   "source": [
    "#Import data analysis packages\n",
    "import pandas as pd\n",
    "import numpy as np\n",
    "import matplotlib.pyplot as plt\n",
    "%matplotlib inline"
   ]
  },
  {
   "cell_type": "code",
   "execution_count": 3,
   "id": "b573cb27",
   "metadata": {},
   "outputs": [],
   "source": [
    "#Load data from csv\n",
    "df = pd.read_csv('KaggleV2-May-2016 - Copy (2).csv')"
   ]
  },
  {
   "cell_type": "code",
   "execution_count": 4,
   "id": "abf56a38",
   "metadata": {},
   "outputs": [
    {
     "name": "stdout",
     "output_type": "stream",
     "text": [
      "<class 'pandas.core.frame.DataFrame'>\n",
      "RangeIndex: 110527 entries, 0 to 110526\n",
      "Data columns (total 14 columns):\n",
      " #   Column          Non-Null Count   Dtype  \n",
      "---  ------          --------------   -----  \n",
      " 0   PatientId       110527 non-null  float64\n",
      " 1   AppointmentID   110527 non-null  int64  \n",
      " 2   Gender          110527 non-null  object \n",
      " 3   ScheduledDay    110527 non-null  object \n",
      " 4   AppointmentDay  110527 non-null  object \n",
      " 5   Age             110527 non-null  int64  \n",
      " 6   Neighbourhood   110527 non-null  object \n",
      " 7   Scholarship     110527 non-null  int64  \n",
      " 8   Hipertension    110527 non-null  int64  \n",
      " 9   Diabetes        110527 non-null  int64  \n",
      " 10  Alcoholism      110527 non-null  int64  \n",
      " 11  Handcap         110527 non-null  int64  \n",
      " 12  SMS_received    110527 non-null  int64  \n",
      " 13  No-show         110527 non-null  object \n",
      "dtypes: float64(1), int64(8), object(5)\n",
      "memory usage: 11.8+ MB\n"
     ]
    }
   ],
   "source": [
    "# Integrity check to see if there is any NULL data in the dataset\n",
    "df.info()"
   ]
  },
  {
   "cell_type": "code",
   "execution_count": 5,
   "id": "f44fcd5c",
   "metadata": {
    "scrolled": false
   },
   "outputs": [
    {
     "data": {
      "text/html": [
       "<div>\n",
       "<style scoped>\n",
       "    .dataframe tbody tr th:only-of-type {\n",
       "        vertical-align: middle;\n",
       "    }\n",
       "\n",
       "    .dataframe tbody tr th {\n",
       "        vertical-align: top;\n",
       "    }\n",
       "\n",
       "    .dataframe thead th {\n",
       "        text-align: right;\n",
       "    }\n",
       "</style>\n",
       "<table border=\"1\" class=\"dataframe\">\n",
       "  <thead>\n",
       "    <tr style=\"text-align: right;\">\n",
       "      <th></th>\n",
       "      <th>PatientId</th>\n",
       "      <th>AppointmentID</th>\n",
       "      <th>Gender</th>\n",
       "      <th>ScheduledDay</th>\n",
       "      <th>AppointmentDay</th>\n",
       "      <th>Age</th>\n",
       "      <th>Neighbourhood</th>\n",
       "      <th>Scholarship</th>\n",
       "      <th>Hipertension</th>\n",
       "      <th>Diabetes</th>\n",
       "      <th>Alcoholism</th>\n",
       "      <th>Handcap</th>\n",
       "      <th>SMS_received</th>\n",
       "      <th>No-show</th>\n",
       "    </tr>\n",
       "  </thead>\n",
       "  <tbody>\n",
       "    <tr>\n",
       "      <th>0</th>\n",
       "      <td>2.987250e+13</td>\n",
       "      <td>5642903</td>\n",
       "      <td>F</td>\n",
       "      <td>2016-04-29T18:38:08Z</td>\n",
       "      <td>2016-04-29T00:00:00Z</td>\n",
       "      <td>62</td>\n",
       "      <td>JARDIM DA PENHA</td>\n",
       "      <td>0</td>\n",
       "      <td>1</td>\n",
       "      <td>0</td>\n",
       "      <td>0</td>\n",
       "      <td>0</td>\n",
       "      <td>0</td>\n",
       "      <td>No</td>\n",
       "    </tr>\n",
       "    <tr>\n",
       "      <th>1</th>\n",
       "      <td>5.589978e+14</td>\n",
       "      <td>5642503</td>\n",
       "      <td>M</td>\n",
       "      <td>2016-04-29T16:08:27Z</td>\n",
       "      <td>2016-04-29T00:00:00Z</td>\n",
       "      <td>56</td>\n",
       "      <td>JARDIM DA PENHA</td>\n",
       "      <td>0</td>\n",
       "      <td>0</td>\n",
       "      <td>0</td>\n",
       "      <td>0</td>\n",
       "      <td>0</td>\n",
       "      <td>0</td>\n",
       "      <td>No</td>\n",
       "    </tr>\n",
       "    <tr>\n",
       "      <th>2</th>\n",
       "      <td>4.262962e+12</td>\n",
       "      <td>5642549</td>\n",
       "      <td>F</td>\n",
       "      <td>2016-04-29T16:19:04Z</td>\n",
       "      <td>2016-04-29T00:00:00Z</td>\n",
       "      <td>62</td>\n",
       "      <td>MATA DA PRAIA</td>\n",
       "      <td>0</td>\n",
       "      <td>0</td>\n",
       "      <td>0</td>\n",
       "      <td>0</td>\n",
       "      <td>0</td>\n",
       "      <td>0</td>\n",
       "      <td>No</td>\n",
       "    </tr>\n",
       "    <tr>\n",
       "      <th>3</th>\n",
       "      <td>8.679512e+11</td>\n",
       "      <td>5642828</td>\n",
       "      <td>F</td>\n",
       "      <td>2016-04-29T17:29:31Z</td>\n",
       "      <td>2016-04-29T00:00:00Z</td>\n",
       "      <td>8</td>\n",
       "      <td>PONTAL DE CAMBURI</td>\n",
       "      <td>0</td>\n",
       "      <td>0</td>\n",
       "      <td>0</td>\n",
       "      <td>0</td>\n",
       "      <td>0</td>\n",
       "      <td>0</td>\n",
       "      <td>No</td>\n",
       "    </tr>\n",
       "    <tr>\n",
       "      <th>4</th>\n",
       "      <td>8.841186e+12</td>\n",
       "      <td>5642494</td>\n",
       "      <td>F</td>\n",
       "      <td>2016-04-29T16:07:23Z</td>\n",
       "      <td>2016-04-29T00:00:00Z</td>\n",
       "      <td>56</td>\n",
       "      <td>JARDIM DA PENHA</td>\n",
       "      <td>0</td>\n",
       "      <td>1</td>\n",
       "      <td>1</td>\n",
       "      <td>0</td>\n",
       "      <td>0</td>\n",
       "      <td>0</td>\n",
       "      <td>No</td>\n",
       "    </tr>\n",
       "  </tbody>\n",
       "</table>\n",
       "</div>"
      ],
      "text/plain": [
       "      PatientId  AppointmentID Gender          ScheduledDay  \\\n",
       "0  2.987250e+13        5642903      F  2016-04-29T18:38:08Z   \n",
       "1  5.589978e+14        5642503      M  2016-04-29T16:08:27Z   \n",
       "2  4.262962e+12        5642549      F  2016-04-29T16:19:04Z   \n",
       "3  8.679512e+11        5642828      F  2016-04-29T17:29:31Z   \n",
       "4  8.841186e+12        5642494      F  2016-04-29T16:07:23Z   \n",
       "\n",
       "         AppointmentDay  Age      Neighbourhood  Scholarship  Hipertension  \\\n",
       "0  2016-04-29T00:00:00Z   62    JARDIM DA PENHA            0             1   \n",
       "1  2016-04-29T00:00:00Z   56    JARDIM DA PENHA            0             0   \n",
       "2  2016-04-29T00:00:00Z   62      MATA DA PRAIA            0             0   \n",
       "3  2016-04-29T00:00:00Z    8  PONTAL DE CAMBURI            0             0   \n",
       "4  2016-04-29T00:00:00Z   56    JARDIM DA PENHA            0             1   \n",
       "\n",
       "   Diabetes  Alcoholism  Handcap  SMS_received No-show  \n",
       "0         0           0        0             0      No  \n",
       "1         0           0        0             0      No  \n",
       "2         0           0        0             0      No  \n",
       "3         0           0        0             0      No  \n",
       "4         1           0        0             0      No  "
      ]
     },
     "execution_count": 5,
     "metadata": {},
     "output_type": "execute_result"
    }
   ],
   "source": [
    "# Integrity check to see if there is any naming or data type inconsistency in the dataset\n",
    "df.head()"
   ]
  },
  {
   "cell_type": "markdown",
   "id": "bdd1c0c1",
   "metadata": {},
   "source": [
    "# Observations\n",
    "1. Changing patientID data type from float to int will make the dataset easier to work with\n",
    "2. Stripping time from the scheduleDay column will make the dataset easier to work with\n",
    "3. Stripping time from the appointmentDay column will make the dataset easier to work with"
   ]
  },
  {
   "cell_type": "code",
   "execution_count": 6,
   "id": "d1004867",
   "metadata": {},
   "outputs": [
    {
     "data": {
      "text/plain": [
       "PatientId         62299\n",
       "AppointmentID    110527\n",
       "dtype: int64"
      ]
     },
     "execution_count": 6,
     "metadata": {},
     "output_type": "execute_result"
    }
   ],
   "source": [
    "# Integrity check to see if there is any repeated appointment ID and patient Id.\n",
    "df.loc[:, ['PatientId', 'AppointmentID']].nunique()"
   ]
  },
  {
   "cell_type": "code",
   "execution_count": 7,
   "id": "3fee7c50",
   "metadata": {},
   "outputs": [
    {
     "data": {
      "text/plain": [
       "0"
      ]
     },
     "execution_count": 7,
     "metadata": {},
     "output_type": "execute_result"
    }
   ],
   "source": [
    "#Integrity check to see if there is any duplicate data in the dataset\n",
    "sum(df.duplicated())"
   ]
  },
  {
   "cell_type": "markdown",
   "id": "12abe397",
   "metadata": {},
   "source": [
    "## Data Cleaning:-"
   ]
  },
  {
   "cell_type": "code",
   "execution_count": 8,
   "id": "685529ca",
   "metadata": {},
   "outputs": [],
   "source": [
    "# Based on the observations made above, the below are steps taken to clean the data"
   ]
  },
  {
   "cell_type": "code",
   "execution_count": 9,
   "id": "df346b36",
   "metadata": {},
   "outputs": [],
   "source": [
    "# Change scheduleDay and appointment day column to datetime\n",
    "datetime_change = [\"ScheduledDay\", \"AppointmentDay\"]\n",
    "df[datetime_change]= df[datetime_change].apply(pd.to_datetime)"
   ]
  },
  {
   "cell_type": "code",
   "execution_count": 10,
   "id": "5010e2ab",
   "metadata": {},
   "outputs": [
    {
     "name": "stdout",
     "output_type": "stream",
     "text": [
      "<class 'pandas.core.frame.DataFrame'>\n",
      "RangeIndex: 110527 entries, 0 to 110526\n",
      "Data columns (total 14 columns):\n",
      " #   Column          Non-Null Count   Dtype              \n",
      "---  ------          --------------   -----              \n",
      " 0   PatientId       110527 non-null  float64            \n",
      " 1   AppointmentID   110527 non-null  int64              \n",
      " 2   Gender          110527 non-null  object             \n",
      " 3   ScheduledDay    110527 non-null  datetime64[ns, UTC]\n",
      " 4   AppointmentDay  110527 non-null  datetime64[ns, UTC]\n",
      " 5   Age             110527 non-null  int64              \n",
      " 6   Neighbourhood   110527 non-null  object             \n",
      " 7   Scholarship     110527 non-null  int64              \n",
      " 8   Hipertension    110527 non-null  int64              \n",
      " 9   Diabetes        110527 non-null  int64              \n",
      " 10  Alcoholism      110527 non-null  int64              \n",
      " 11  Handcap         110527 non-null  int64              \n",
      " 12  SMS_received    110527 non-null  int64              \n",
      " 13  No-show         110527 non-null  object             \n",
      "dtypes: datetime64[ns, UTC](2), float64(1), int64(8), object(3)\n",
      "memory usage: 11.8+ MB\n"
     ]
    }
   ],
   "source": [
    "df.info()"
   ]
  },
  {
   "cell_type": "code",
   "execution_count": 11,
   "id": "bafef770",
   "metadata": {},
   "outputs": [],
   "source": [
    "# Create a appointmentDayOfWeek column for day analysis\n",
    "df['appointmentDayOfWeek'] = df['AppointmentDay'].dt.day_name()"
   ]
  },
  {
   "cell_type": "code",
   "execution_count": 12,
   "id": "dce27364",
   "metadata": {},
   "outputs": [
    {
     "data": {
      "text/html": [
       "<div>\n",
       "<style scoped>\n",
       "    .dataframe tbody tr th:only-of-type {\n",
       "        vertical-align: middle;\n",
       "    }\n",
       "\n",
       "    .dataframe tbody tr th {\n",
       "        vertical-align: top;\n",
       "    }\n",
       "\n",
       "    .dataframe thead th {\n",
       "        text-align: right;\n",
       "    }\n",
       "</style>\n",
       "<table border=\"1\" class=\"dataframe\">\n",
       "  <thead>\n",
       "    <tr style=\"text-align: right;\">\n",
       "      <th></th>\n",
       "      <th>PatientId</th>\n",
       "      <th>AppointmentID</th>\n",
       "      <th>Gender</th>\n",
       "      <th>ScheduledDay</th>\n",
       "      <th>AppointmentDay</th>\n",
       "      <th>Age</th>\n",
       "      <th>Neighbourhood</th>\n",
       "      <th>Scholarship</th>\n",
       "      <th>Hipertension</th>\n",
       "      <th>Diabetes</th>\n",
       "      <th>Alcoholism</th>\n",
       "      <th>Handcap</th>\n",
       "      <th>SMS_received</th>\n",
       "      <th>No-show</th>\n",
       "      <th>appointmentDayOfWeek</th>\n",
       "    </tr>\n",
       "  </thead>\n",
       "  <tbody>\n",
       "    <tr>\n",
       "      <th>0</th>\n",
       "      <td>2.987250e+13</td>\n",
       "      <td>5642903</td>\n",
       "      <td>F</td>\n",
       "      <td>2016-04-29 18:38:08+00:00</td>\n",
       "      <td>2016-04-29 00:00:00+00:00</td>\n",
       "      <td>62</td>\n",
       "      <td>JARDIM DA PENHA</td>\n",
       "      <td>0</td>\n",
       "      <td>1</td>\n",
       "      <td>0</td>\n",
       "      <td>0</td>\n",
       "      <td>0</td>\n",
       "      <td>0</td>\n",
       "      <td>No</td>\n",
       "      <td>Friday</td>\n",
       "    </tr>\n",
       "    <tr>\n",
       "      <th>1</th>\n",
       "      <td>5.589978e+14</td>\n",
       "      <td>5642503</td>\n",
       "      <td>M</td>\n",
       "      <td>2016-04-29 16:08:27+00:00</td>\n",
       "      <td>2016-04-29 00:00:00+00:00</td>\n",
       "      <td>56</td>\n",
       "      <td>JARDIM DA PENHA</td>\n",
       "      <td>0</td>\n",
       "      <td>0</td>\n",
       "      <td>0</td>\n",
       "      <td>0</td>\n",
       "      <td>0</td>\n",
       "      <td>0</td>\n",
       "      <td>No</td>\n",
       "      <td>Friday</td>\n",
       "    </tr>\n",
       "    <tr>\n",
       "      <th>2</th>\n",
       "      <td>4.262962e+12</td>\n",
       "      <td>5642549</td>\n",
       "      <td>F</td>\n",
       "      <td>2016-04-29 16:19:04+00:00</td>\n",
       "      <td>2016-04-29 00:00:00+00:00</td>\n",
       "      <td>62</td>\n",
       "      <td>MATA DA PRAIA</td>\n",
       "      <td>0</td>\n",
       "      <td>0</td>\n",
       "      <td>0</td>\n",
       "      <td>0</td>\n",
       "      <td>0</td>\n",
       "      <td>0</td>\n",
       "      <td>No</td>\n",
       "      <td>Friday</td>\n",
       "    </tr>\n",
       "    <tr>\n",
       "      <th>3</th>\n",
       "      <td>8.679512e+11</td>\n",
       "      <td>5642828</td>\n",
       "      <td>F</td>\n",
       "      <td>2016-04-29 17:29:31+00:00</td>\n",
       "      <td>2016-04-29 00:00:00+00:00</td>\n",
       "      <td>8</td>\n",
       "      <td>PONTAL DE CAMBURI</td>\n",
       "      <td>0</td>\n",
       "      <td>0</td>\n",
       "      <td>0</td>\n",
       "      <td>0</td>\n",
       "      <td>0</td>\n",
       "      <td>0</td>\n",
       "      <td>No</td>\n",
       "      <td>Friday</td>\n",
       "    </tr>\n",
       "    <tr>\n",
       "      <th>4</th>\n",
       "      <td>8.841186e+12</td>\n",
       "      <td>5642494</td>\n",
       "      <td>F</td>\n",
       "      <td>2016-04-29 16:07:23+00:00</td>\n",
       "      <td>2016-04-29 00:00:00+00:00</td>\n",
       "      <td>56</td>\n",
       "      <td>JARDIM DA PENHA</td>\n",
       "      <td>0</td>\n",
       "      <td>1</td>\n",
       "      <td>1</td>\n",
       "      <td>0</td>\n",
       "      <td>0</td>\n",
       "      <td>0</td>\n",
       "      <td>No</td>\n",
       "      <td>Friday</td>\n",
       "    </tr>\n",
       "  </tbody>\n",
       "</table>\n",
       "</div>"
      ],
      "text/plain": [
       "      PatientId  AppointmentID Gender              ScheduledDay  \\\n",
       "0  2.987250e+13        5642903      F 2016-04-29 18:38:08+00:00   \n",
       "1  5.589978e+14        5642503      M 2016-04-29 16:08:27+00:00   \n",
       "2  4.262962e+12        5642549      F 2016-04-29 16:19:04+00:00   \n",
       "3  8.679512e+11        5642828      F 2016-04-29 17:29:31+00:00   \n",
       "4  8.841186e+12        5642494      F 2016-04-29 16:07:23+00:00   \n",
       "\n",
       "             AppointmentDay  Age      Neighbourhood  Scholarship  \\\n",
       "0 2016-04-29 00:00:00+00:00   62    JARDIM DA PENHA            0   \n",
       "1 2016-04-29 00:00:00+00:00   56    JARDIM DA PENHA            0   \n",
       "2 2016-04-29 00:00:00+00:00   62      MATA DA PRAIA            0   \n",
       "3 2016-04-29 00:00:00+00:00    8  PONTAL DE CAMBURI            0   \n",
       "4 2016-04-29 00:00:00+00:00   56    JARDIM DA PENHA            0   \n",
       "\n",
       "   Hipertension  Diabetes  Alcoholism  Handcap  SMS_received No-show  \\\n",
       "0             1         0           0        0             0      No   \n",
       "1             0         0           0        0             0      No   \n",
       "2             0         0           0        0             0      No   \n",
       "3             0         0           0        0             0      No   \n",
       "4             1         1           0        0             0      No   \n",
       "\n",
       "  appointmentDayOfWeek  \n",
       "0               Friday  \n",
       "1               Friday  \n",
       "2               Friday  \n",
       "3               Friday  \n",
       "4               Friday  "
      ]
     },
     "execution_count": 12,
     "metadata": {},
     "output_type": "execute_result"
    }
   ],
   "source": [
    "df.head()"
   ]
  },
  {
   "cell_type": "code",
   "execution_count": 13,
   "id": "121d03ca",
   "metadata": {},
   "outputs": [],
   "source": [
    "# Strip time from scheduleday and appointmentday since it has no time-level data\n",
    "for column_name in datetime_change:\n",
    "    df[column_name] = pd.to_datetime(df[column_name]).dt.date"
   ]
  },
  {
   "cell_type": "code",
   "execution_count": 14,
   "id": "1716b452",
   "metadata": {},
   "outputs": [
    {
     "data": {
      "text/html": [
       "<div>\n",
       "<style scoped>\n",
       "    .dataframe tbody tr th:only-of-type {\n",
       "        vertical-align: middle;\n",
       "    }\n",
       "\n",
       "    .dataframe tbody tr th {\n",
       "        vertical-align: top;\n",
       "    }\n",
       "\n",
       "    .dataframe thead th {\n",
       "        text-align: right;\n",
       "    }\n",
       "</style>\n",
       "<table border=\"1\" class=\"dataframe\">\n",
       "  <thead>\n",
       "    <tr style=\"text-align: right;\">\n",
       "      <th></th>\n",
       "      <th>PatientId</th>\n",
       "      <th>AppointmentID</th>\n",
       "      <th>Gender</th>\n",
       "      <th>ScheduledDay</th>\n",
       "      <th>AppointmentDay</th>\n",
       "      <th>Age</th>\n",
       "      <th>Neighbourhood</th>\n",
       "      <th>Scholarship</th>\n",
       "      <th>Hipertension</th>\n",
       "      <th>Diabetes</th>\n",
       "      <th>Alcoholism</th>\n",
       "      <th>Handcap</th>\n",
       "      <th>SMS_received</th>\n",
       "      <th>No-show</th>\n",
       "      <th>appointmentDayOfWeek</th>\n",
       "    </tr>\n",
       "  </thead>\n",
       "  <tbody>\n",
       "    <tr>\n",
       "      <th>110522</th>\n",
       "      <td>2.572134e+12</td>\n",
       "      <td>5651768</td>\n",
       "      <td>F</td>\n",
       "      <td>2016-05-03</td>\n",
       "      <td>2016-06-07</td>\n",
       "      <td>56</td>\n",
       "      <td>MARIA ORTIZ</td>\n",
       "      <td>0</td>\n",
       "      <td>0</td>\n",
       "      <td>0</td>\n",
       "      <td>0</td>\n",
       "      <td>0</td>\n",
       "      <td>1</td>\n",
       "      <td>No</td>\n",
       "      <td>Tuesday</td>\n",
       "    </tr>\n",
       "    <tr>\n",
       "      <th>110523</th>\n",
       "      <td>3.596266e+12</td>\n",
       "      <td>5650093</td>\n",
       "      <td>F</td>\n",
       "      <td>2016-05-03</td>\n",
       "      <td>2016-06-07</td>\n",
       "      <td>51</td>\n",
       "      <td>MARIA ORTIZ</td>\n",
       "      <td>0</td>\n",
       "      <td>0</td>\n",
       "      <td>0</td>\n",
       "      <td>0</td>\n",
       "      <td>0</td>\n",
       "      <td>1</td>\n",
       "      <td>No</td>\n",
       "      <td>Tuesday</td>\n",
       "    </tr>\n",
       "    <tr>\n",
       "      <th>110524</th>\n",
       "      <td>1.557663e+13</td>\n",
       "      <td>5630692</td>\n",
       "      <td>F</td>\n",
       "      <td>2016-04-27</td>\n",
       "      <td>2016-06-07</td>\n",
       "      <td>21</td>\n",
       "      <td>MARIA ORTIZ</td>\n",
       "      <td>0</td>\n",
       "      <td>0</td>\n",
       "      <td>0</td>\n",
       "      <td>0</td>\n",
       "      <td>0</td>\n",
       "      <td>1</td>\n",
       "      <td>No</td>\n",
       "      <td>Tuesday</td>\n",
       "    </tr>\n",
       "    <tr>\n",
       "      <th>110525</th>\n",
       "      <td>9.213493e+13</td>\n",
       "      <td>5630323</td>\n",
       "      <td>F</td>\n",
       "      <td>2016-04-27</td>\n",
       "      <td>2016-06-07</td>\n",
       "      <td>38</td>\n",
       "      <td>MARIA ORTIZ</td>\n",
       "      <td>0</td>\n",
       "      <td>0</td>\n",
       "      <td>0</td>\n",
       "      <td>0</td>\n",
       "      <td>0</td>\n",
       "      <td>1</td>\n",
       "      <td>No</td>\n",
       "      <td>Tuesday</td>\n",
       "    </tr>\n",
       "    <tr>\n",
       "      <th>110526</th>\n",
       "      <td>3.775115e+14</td>\n",
       "      <td>5629448</td>\n",
       "      <td>F</td>\n",
       "      <td>2016-04-27</td>\n",
       "      <td>2016-06-07</td>\n",
       "      <td>54</td>\n",
       "      <td>MARIA ORTIZ</td>\n",
       "      <td>0</td>\n",
       "      <td>0</td>\n",
       "      <td>0</td>\n",
       "      <td>0</td>\n",
       "      <td>0</td>\n",
       "      <td>1</td>\n",
       "      <td>No</td>\n",
       "      <td>Tuesday</td>\n",
       "    </tr>\n",
       "  </tbody>\n",
       "</table>\n",
       "</div>"
      ],
      "text/plain": [
       "           PatientId  AppointmentID Gender ScheduledDay AppointmentDay  Age  \\\n",
       "110522  2.572134e+12        5651768      F   2016-05-03     2016-06-07   56   \n",
       "110523  3.596266e+12        5650093      F   2016-05-03     2016-06-07   51   \n",
       "110524  1.557663e+13        5630692      F   2016-04-27     2016-06-07   21   \n",
       "110525  9.213493e+13        5630323      F   2016-04-27     2016-06-07   38   \n",
       "110526  3.775115e+14        5629448      F   2016-04-27     2016-06-07   54   \n",
       "\n",
       "       Neighbourhood  Scholarship  Hipertension  Diabetes  Alcoholism  \\\n",
       "110522   MARIA ORTIZ            0             0         0           0   \n",
       "110523   MARIA ORTIZ            0             0         0           0   \n",
       "110524   MARIA ORTIZ            0             0         0           0   \n",
       "110525   MARIA ORTIZ            0             0         0           0   \n",
       "110526   MARIA ORTIZ            0             0         0           0   \n",
       "\n",
       "        Handcap  SMS_received No-show appointmentDayOfWeek  \n",
       "110522        0             1      No              Tuesday  \n",
       "110523        0             1      No              Tuesday  \n",
       "110524        0             1      No              Tuesday  \n",
       "110525        0             1      No              Tuesday  \n",
       "110526        0             1      No              Tuesday  "
      ]
     },
     "execution_count": 14,
     "metadata": {},
     "output_type": "execute_result"
    }
   ],
   "source": [
    "df.tail()"
   ]
  },
  {
   "cell_type": "code",
   "execution_count": 15,
   "id": "1d15f4be",
   "metadata": {},
   "outputs": [],
   "source": [
    "# Giving new column names for ease of use\n",
    "newLabels = ['patientID',\n",
    "             'appointmentID',\n",
    "             'gender',\n",
    "             'scheduleDay',\n",
    "             'appointmentDay',\n",
    "             'age',\n",
    "             'neighborhood',\n",
    "             'scholarship',\n",
    "             'hypertension',\n",
    "             'diabetes',\n",
    "             'alcoholism',\n",
    "             'handcap',\n",
    "             'sms_received',\n",
    "             'noshow',\n",
    "             'appointmentDayOfWeek']\n",
    "df.columns = newLabels"
   ]
  },
  {
   "cell_type": "code",
   "execution_count": 16,
   "id": "1cd23914",
   "metadata": {},
   "outputs": [],
   "source": [
    "# To change patiendID data type from float to int\n",
    "df['patientID'] = df['patientID'].astype(int)"
   ]
  },
  {
   "cell_type": "code",
   "execution_count": 17,
   "id": "c47b9a0f",
   "metadata": {},
   "outputs": [
    {
     "name": "stdout",
     "output_type": "stream",
     "text": [
      "<class 'pandas.core.frame.DataFrame'>\n",
      "RangeIndex: 110527 entries, 0 to 110526\n",
      "Data columns (total 15 columns):\n",
      " #   Column                Non-Null Count   Dtype \n",
      "---  ------                --------------   ----- \n",
      " 0   patientID             110527 non-null  int32 \n",
      " 1   appointmentID         110527 non-null  int64 \n",
      " 2   gender                110527 non-null  object\n",
      " 3   scheduleDay           110527 non-null  object\n",
      " 4   appointmentDay        110527 non-null  object\n",
      " 5   age                   110527 non-null  int64 \n",
      " 6   neighborhood          110527 non-null  object\n",
      " 7   scholarship           110527 non-null  int64 \n",
      " 8   hypertension          110527 non-null  int64 \n",
      " 9   diabetes              110527 non-null  int64 \n",
      " 10  alcoholism            110527 non-null  int64 \n",
      " 11  handcap               110527 non-null  int64 \n",
      " 12  sms_received          110527 non-null  int64 \n",
      " 13  noshow                110527 non-null  object\n",
      " 14  appointmentDayOfWeek  110527 non-null  object\n",
      "dtypes: int32(1), int64(8), object(6)\n",
      "memory usage: 12.2+ MB\n"
     ]
    }
   ],
   "source": [
    "# Integrity check to see data types\n",
    "df.info()"
   ]
  },
  {
   "cell_type": "markdown",
   "id": "68d349f1",
   "metadata": {},
   "source": [
    "## Exploratory Data Analysis:-"
   ]
  },
  {
   "cell_type": "markdown",
   "id": "a5c79c10",
   "metadata": {},
   "source": [
    "# Are patients not making it to their appointment due to failed sms delivery?"
   ]
  },
  {
   "cell_type": "code",
   "execution_count": 18,
   "id": "3a2c173a",
   "metadata": {
    "scrolled": true
   },
   "outputs": [],
   "source": [
    "# Convert noshow column to hold 1 if Yes, 0 otherwise\n",
    "# This step is done to match data in other colums like sms recieved.\n",
    "df['noshow'] = np.where((df.noshow == \"Yes\"), 1, 0)"
   ]
  },
  {
   "cell_type": "code",
   "execution_count": 19,
   "id": "ec118e82",
   "metadata": {},
   "outputs": [
    {
     "data": {
      "text/html": [
       "<div>\n",
       "<style scoped>\n",
       "    .dataframe tbody tr th:only-of-type {\n",
       "        vertical-align: middle;\n",
       "    }\n",
       "\n",
       "    .dataframe tbody tr th {\n",
       "        vertical-align: top;\n",
       "    }\n",
       "\n",
       "    .dataframe thead th {\n",
       "        text-align: right;\n",
       "    }\n",
       "</style>\n",
       "<table border=\"1\" class=\"dataframe\">\n",
       "  <thead>\n",
       "    <tr style=\"text-align: right;\">\n",
       "      <th></th>\n",
       "      <th>patientID</th>\n",
       "      <th>appointmentID</th>\n",
       "      <th>gender</th>\n",
       "      <th>scheduleDay</th>\n",
       "      <th>appointmentDay</th>\n",
       "      <th>age</th>\n",
       "      <th>neighborhood</th>\n",
       "      <th>scholarship</th>\n",
       "      <th>hypertension</th>\n",
       "      <th>diabetes</th>\n",
       "      <th>alcoholism</th>\n",
       "      <th>handcap</th>\n",
       "      <th>sms_received</th>\n",
       "      <th>noshow</th>\n",
       "      <th>appointmentDayOfWeek</th>\n",
       "    </tr>\n",
       "  </thead>\n",
       "  <tbody>\n",
       "    <tr>\n",
       "      <th>0</th>\n",
       "      <td>-2147483648</td>\n",
       "      <td>5642903</td>\n",
       "      <td>F</td>\n",
       "      <td>2016-04-29</td>\n",
       "      <td>2016-04-29</td>\n",
       "      <td>62</td>\n",
       "      <td>JARDIM DA PENHA</td>\n",
       "      <td>0</td>\n",
       "      <td>1</td>\n",
       "      <td>0</td>\n",
       "      <td>0</td>\n",
       "      <td>0</td>\n",
       "      <td>0</td>\n",
       "      <td>0</td>\n",
       "      <td>Friday</td>\n",
       "    </tr>\n",
       "    <tr>\n",
       "      <th>1</th>\n",
       "      <td>-2147483648</td>\n",
       "      <td>5642503</td>\n",
       "      <td>M</td>\n",
       "      <td>2016-04-29</td>\n",
       "      <td>2016-04-29</td>\n",
       "      <td>56</td>\n",
       "      <td>JARDIM DA PENHA</td>\n",
       "      <td>0</td>\n",
       "      <td>0</td>\n",
       "      <td>0</td>\n",
       "      <td>0</td>\n",
       "      <td>0</td>\n",
       "      <td>0</td>\n",
       "      <td>0</td>\n",
       "      <td>Friday</td>\n",
       "    </tr>\n",
       "    <tr>\n",
       "      <th>2</th>\n",
       "      <td>-2147483648</td>\n",
       "      <td>5642549</td>\n",
       "      <td>F</td>\n",
       "      <td>2016-04-29</td>\n",
       "      <td>2016-04-29</td>\n",
       "      <td>62</td>\n",
       "      <td>MATA DA PRAIA</td>\n",
       "      <td>0</td>\n",
       "      <td>0</td>\n",
       "      <td>0</td>\n",
       "      <td>0</td>\n",
       "      <td>0</td>\n",
       "      <td>0</td>\n",
       "      <td>0</td>\n",
       "      <td>Friday</td>\n",
       "    </tr>\n",
       "    <tr>\n",
       "      <th>3</th>\n",
       "      <td>-2147483648</td>\n",
       "      <td>5642828</td>\n",
       "      <td>F</td>\n",
       "      <td>2016-04-29</td>\n",
       "      <td>2016-04-29</td>\n",
       "      <td>8</td>\n",
       "      <td>PONTAL DE CAMBURI</td>\n",
       "      <td>0</td>\n",
       "      <td>0</td>\n",
       "      <td>0</td>\n",
       "      <td>0</td>\n",
       "      <td>0</td>\n",
       "      <td>0</td>\n",
       "      <td>0</td>\n",
       "      <td>Friday</td>\n",
       "    </tr>\n",
       "    <tr>\n",
       "      <th>4</th>\n",
       "      <td>-2147483648</td>\n",
       "      <td>5642494</td>\n",
       "      <td>F</td>\n",
       "      <td>2016-04-29</td>\n",
       "      <td>2016-04-29</td>\n",
       "      <td>56</td>\n",
       "      <td>JARDIM DA PENHA</td>\n",
       "      <td>0</td>\n",
       "      <td>1</td>\n",
       "      <td>1</td>\n",
       "      <td>0</td>\n",
       "      <td>0</td>\n",
       "      <td>0</td>\n",
       "      <td>0</td>\n",
       "      <td>Friday</td>\n",
       "    </tr>\n",
       "  </tbody>\n",
       "</table>\n",
       "</div>"
      ],
      "text/plain": [
       "    patientID  appointmentID gender scheduleDay appointmentDay  age  \\\n",
       "0 -2147483648        5642903      F  2016-04-29     2016-04-29   62   \n",
       "1 -2147483648        5642503      M  2016-04-29     2016-04-29   56   \n",
       "2 -2147483648        5642549      F  2016-04-29     2016-04-29   62   \n",
       "3 -2147483648        5642828      F  2016-04-29     2016-04-29    8   \n",
       "4 -2147483648        5642494      F  2016-04-29     2016-04-29   56   \n",
       "\n",
       "        neighborhood  scholarship  hypertension  diabetes  alcoholism  \\\n",
       "0    JARDIM DA PENHA            0             1         0           0   \n",
       "1    JARDIM DA PENHA            0             0         0           0   \n",
       "2      MATA DA PRAIA            0             0         0           0   \n",
       "3  PONTAL DE CAMBURI            0             0         0           0   \n",
       "4    JARDIM DA PENHA            0             1         1           0   \n",
       "\n",
       "   handcap  sms_received  noshow appointmentDayOfWeek  \n",
       "0        0             0       0               Friday  \n",
       "1        0             0       0               Friday  \n",
       "2        0             0       0               Friday  \n",
       "3        0             0       0               Friday  \n",
       "4        0             0       0               Friday  "
      ]
     },
     "execution_count": 19,
     "metadata": {},
     "output_type": "execute_result"
    }
   ],
   "source": [
    "df.head()"
   ]
  },
  {
   "cell_type": "code",
   "execution_count": 20,
   "id": "c0fe72a8",
   "metadata": {},
   "outputs": [
    {
     "data": {
      "text/plain": [
       "(35482, 15)"
      ]
     },
     "execution_count": 20,
     "metadata": {},
     "output_type": "execute_result"
    }
   ],
   "source": [
    "# Create a dataframe to hold all Sms Received records\n",
    "sms_received = df.query('sms_received == 1')\n",
    "sms_received.shape"
   ]
  },
  {
   "cell_type": "code",
   "execution_count": 21,
   "id": "c798526a",
   "metadata": {},
   "outputs": [
    {
     "data": {
      "text/plain": [
       "(75045, 15)"
      ]
     },
     "execution_count": 21,
     "metadata": {},
     "output_type": "execute_result"
    }
   ],
   "source": [
    "# Create a dataframe to hold all no Sms Received records\n",
    "no_sms_received = df.query('sms_received == 0')\n",
    "no_sms_received.shape"
   ]
  },
  {
   "cell_type": "code",
   "execution_count": 22,
   "id": "c7e03f01",
   "metadata": {},
   "outputs": [],
   "source": [
    "def get_percentage(query_str, df):\n",
    "    filter_df = df.query(query_str)\n",
    "    return len(filter_df) * 100 / len(df)"
   ]
  },
  {
   "cell_type": "code",
   "execution_count": 23,
   "id": "0e0168b5",
   "metadata": {},
   "outputs": [
    {
     "name": "stdout",
     "output_type": "stream",
     "text": [
      "27.574544839637 72.425455160363 16.703311346525417 83.29668865347458\n"
     ]
    }
   ],
   "source": [
    "a = get_percentage('noshow == 1', sms_received)\n",
    "b = get_percentage('noshow == 0', sms_received)\n",
    "c = get_percentage('noshow == 1', no_sms_received)\n",
    "d = get_percentage('noshow == 0', no_sms_received)\n",
    "\n",
    "print (a, b, c, d)"
   ]
  },
  {
   "cell_type": "code",
   "execution_count": 24,
   "id": "fc0330ed",
   "metadata": {},
   "outputs": [
    {
     "data": {
      "image/png": "[encoded data removed]",
      "text/plain": [
       "<Figure size 360x360 with 1 Axes>"
      ]
     },
     "metadata": {},
     "output_type": "display_data"
    }
   ],
   "source": [
    "# visualization for shows and no shows when no SMS recieved\n",
    "Size = [a, b]\n",
    "labels = ['No_show','Show']\n",
    "explode = (0, 0.1)\n",
    "\n",
    "plt.pie(Size, explode=explode, labels=labels, colors=['tomato','lightgreen'],autopct='%1.1f%%', shadow=True, startangle=100)\n",
    "plt.title('Sms_received')\n",
    "plt.axis('equal')\n",
    "fig = plt.gcf()\n",
    "fig.set_size_inches(5,5);"
   ]
  },
  {
   "cell_type": "markdown",
   "id": "44a8875b",
   "metadata": {},
   "source": [
    "Visual distribution of appointment status when reminder messages are not received"
   ]
  },
  {
   "cell_type": "code",
   "execution_count": 25,
   "id": "78491bf9",
   "metadata": {},
   "outputs": [
    {
     "data": {
      "image/png": "[encoded data removed]",
      "text/plain": [
       "<Figure size 360x360 with 1 Axes>"
      ]
     },
     "metadata": {},
     "output_type": "display_data"
    }
   ],
   "source": [
    "# visualization for shows and no shows when SMS recieved\n",
    "Size = [c, d]\n",
    "labels = ['No_show','Show']\n",
    "explode = (0, 0.1)\n",
    "\n",
    "plt.pie(Size, explode=explode, labels=labels, colors=['tomato','lightgreen'],autopct='%1.1f%%', shadow=True, startangle=100)\n",
    "plt.title('No_Sms_Received')\n",
    "plt.axis('equal')\n",
    "fig = plt.gcf()\n",
    "fig.set_size_inches(5,5);"
   ]
  },
  {
   "cell_type": "markdown",
   "id": "397cd0eb",
   "metadata": {},
   "source": [
    "Visual distribution of appointment status when reminder messages are received"
   ]
  },
  {
   "cell_type": "markdown",
   "id": "4c1d1918",
   "metadata": {},
   "source": [
    "# Which day has the highest no shows?"
   ]
  },
  {
   "cell_type": "code",
   "execution_count": 26,
   "id": "eb25e8f9",
   "metadata": {},
   "outputs": [
    {
     "data": {
      "text/plain": [
       "(22319, 15)"
      ]
     },
     "execution_count": 26,
     "metadata": {},
     "output_type": "execute_result"
    }
   ],
   "source": [
    "#Create a dataframe to hold all no-show records\n",
    "no_shows = df.query('noshow == 1')\n",
    "no_shows.shape"
   ]
  },
  {
   "cell_type": "code",
   "execution_count": 27,
   "id": "3deebc2d",
   "metadata": {},
   "outputs": [],
   "source": [
    "# Function to determine percentage of no shows for a given day\n",
    "def count_no_shows(df, no_shows, day):\n",
    "    no_show_data = no_shows.query('appointmentDayOfWeek == @day').shape[0]\n",
    "    percentage = ((no_show_data * 100.0) / no_shows.shape[0])\n",
    "    return percentage"
   ]
  },
  {
   "cell_type": "code",
   "execution_count": 28,
   "id": "2ed8ccda",
   "metadata": {},
   "outputs": [],
   "source": [
    "heights = []\n",
    "days = ['Monday','Tuesday','Wednesday','Thursday','Friday','Saturday']\n",
    "for day in days:\n",
    "    heights.append(count_no_shows(df, no_shows, day))"
   ]
  },
  {
   "cell_type": "code",
   "execution_count": 29,
   "id": "88a21374",
   "metadata": {},
   "outputs": [
    {
     "data": {
      "image/png": "[encoded data removed]",
      "text/plain": [
       "<Figure size 720x360 with 1 Axes>"
      ]
     },
     "metadata": {
      "needs_background": "light"
     },
     "output_type": "display_data"
    }
   ],
   "source": [
    "# visualization for no shows by day of week\n",
    "locations = [i for i in range(6)]\n",
    "labels = days\n",
    "plt.bar(locations, heights, tick_label=labels, color='red')\n",
    "plt.title('No Shows by Day of Week')\n",
    "plt.xlabel('Day of Week')\n",
    "plt.ylabel('No Shows (Total Days)')\n",
    "\n",
    "fig = plt.gcf()\n",
    "fig.set_size_inches(10,5);"
   ]
  },
  {
   "cell_type": "markdown",
   "id": "c687a98d",
   "metadata": {},
   "source": [
    "Visual distribution of no-shows by day of week"
   ]
  },
  {
   "cell_type": "markdown",
   "id": "d349a10b",
   "metadata": {},
   "source": [
    "# Which neighborhoods have the highest number of no-shows and shows?"
   ]
  },
  {
   "cell_type": "code",
   "execution_count": 30,
   "id": "dac03537",
   "metadata": {},
   "outputs": [
    {
     "data": {
      "text/html": [
       "<div>\n",
       "<style scoped>\n",
       "    .dataframe tbody tr th:only-of-type {\n",
       "        vertical-align: middle;\n",
       "    }\n",
       "\n",
       "    .dataframe tbody tr th {\n",
       "        vertical-align: top;\n",
       "    }\n",
       "\n",
       "    .dataframe thead th {\n",
       "        text-align: right;\n",
       "    }\n",
       "</style>\n",
       "<table border=\"1\" class=\"dataframe\">\n",
       "  <thead>\n",
       "    <tr style=\"text-align: right;\">\n",
       "      <th></th>\n",
       "      <th>neighborhood</th>\n",
       "      <th>count</th>\n",
       "    </tr>\n",
       "  </thead>\n",
       "  <tbody>\n",
       "    <tr>\n",
       "      <th>38</th>\n",
       "      <td>JARDIM CAMBURI</td>\n",
       "      <td>1465</td>\n",
       "    </tr>\n",
       "    <tr>\n",
       "      <th>43</th>\n",
       "      <td>MARIA ORTIZ</td>\n",
       "      <td>1219</td>\n",
       "    </tr>\n",
       "    <tr>\n",
       "      <th>36</th>\n",
       "      <td>ITARARÉ</td>\n",
       "      <td>923</td>\n",
       "    </tr>\n",
       "    <tr>\n",
       "      <th>58</th>\n",
       "      <td>RESISTÊNCIA</td>\n",
       "      <td>906</td>\n",
       "    </tr>\n",
       "    <tr>\n",
       "      <th>10</th>\n",
       "      <td>CENTRO</td>\n",
       "      <td>703</td>\n",
       "    </tr>\n",
       "    <tr>\n",
       "      <th>40</th>\n",
       "      <td>JESUS DE NAZARETH</td>\n",
       "      <td>696</td>\n",
       "    </tr>\n",
       "    <tr>\n",
       "      <th>39</th>\n",
       "      <td>JARDIM DA PENHA</td>\n",
       "      <td>631</td>\n",
       "    </tr>\n",
       "    <tr>\n",
       "      <th>9</th>\n",
       "      <td>CARATOÍRA</td>\n",
       "      <td>591</td>\n",
       "    </tr>\n",
       "    <tr>\n",
       "      <th>77</th>\n",
       "      <td>TABUAZEIRO</td>\n",
       "      <td>573</td>\n",
       "    </tr>\n",
       "    <tr>\n",
       "      <th>8</th>\n",
       "      <td>BONFIM</td>\n",
       "      <td>550</td>\n",
       "    </tr>\n",
       "  </tbody>\n",
       "</table>\n",
       "</div>"
      ],
      "text/plain": [
       "         neighborhood  count\n",
       "38     JARDIM CAMBURI   1465\n",
       "43        MARIA ORTIZ   1219\n",
       "36            ITARARÉ    923\n",
       "58        RESISTÊNCIA    906\n",
       "10             CENTRO    703\n",
       "40  JESUS DE NAZARETH    696\n",
       "39    JARDIM DA PENHA    631\n",
       "9           CARATOÍRA    591\n",
       "77         TABUAZEIRO    573\n",
       "8              BONFIM    550"
      ]
     },
     "execution_count": 30,
     "metadata": {},
     "output_type": "execute_result"
    }
   ],
   "source": [
    "# Data showing highest number of noshows from the neighborhood\n",
    "noShowsNeighborhood = no_shows.groupby(\"neighborhood\")[\"noshow\"].count().reset_index(name=\"count\").sort_values(\"count\", ascending=False)\n",
    "noShowsNeighborhood.head(10)"
   ]
  },
  {
   "cell_type": "markdown",
   "id": "463a0114",
   "metadata": {},
   "source": [
    "Top 10 neighborhoods by no shows"
   ]
  },
  {
   "cell_type": "code",
   "execution_count": 33,
   "id": "11541502",
   "metadata": {},
   "outputs": [
    {
     "data": {
      "text/plain": [
       "(88208, 15)"
      ]
     },
     "execution_count": 33,
     "metadata": {},
     "output_type": "execute_result"
    }
   ],
   "source": [
    "#Create a dataframe to hold all show records\n",
    "shows = df.query('noshow == 0')\n",
    "shows.shape"
   ]
  },
  {
   "cell_type": "code",
   "execution_count": 34,
   "id": "a6a9a114",
   "metadata": {},
   "outputs": [
    {
     "data": {
      "text/html": [
       "<div>\n",
       "<style scoped>\n",
       "    .dataframe tbody tr th:only-of-type {\n",
       "        vertical-align: middle;\n",
       "    }\n",
       "\n",
       "    .dataframe tbody tr th {\n",
       "        vertical-align: top;\n",
       "    }\n",
       "\n",
       "    .dataframe thead th {\n",
       "        text-align: right;\n",
       "    }\n",
       "</style>\n",
       "<table border=\"1\" class=\"dataframe\">\n",
       "  <thead>\n",
       "    <tr style=\"text-align: right;\">\n",
       "      <th></th>\n",
       "      <th>neighborhood</th>\n",
       "      <th>count</th>\n",
       "    </tr>\n",
       "  </thead>\n",
       "  <tbody>\n",
       "    <tr>\n",
       "      <th>37</th>\n",
       "      <td>JARDIM CAMBURI</td>\n",
       "      <td>6252</td>\n",
       "    </tr>\n",
       "    <tr>\n",
       "      <th>42</th>\n",
       "      <td>MARIA ORTIZ</td>\n",
       "      <td>4586</td>\n",
       "    </tr>\n",
       "    <tr>\n",
       "      <th>58</th>\n",
       "      <td>RESISTÊNCIA</td>\n",
       "      <td>3525</td>\n",
       "    </tr>\n",
       "    <tr>\n",
       "      <th>38</th>\n",
       "      <td>JARDIM DA PENHA</td>\n",
       "      <td>3246</td>\n",
       "    </tr>\n",
       "    <tr>\n",
       "      <th>65</th>\n",
       "      <td>SANTA MARTHA</td>\n",
       "      <td>2635</td>\n",
       "    </tr>\n",
       "    <tr>\n",
       "      <th>10</th>\n",
       "      <td>CENTRO</td>\n",
       "      <td>2631</td>\n",
       "    </tr>\n",
       "    <tr>\n",
       "      <th>35</th>\n",
       "      <td>ITARARÉ</td>\n",
       "      <td>2591</td>\n",
       "    </tr>\n",
       "    <tr>\n",
       "      <th>77</th>\n",
       "      <td>TABUAZEIRO</td>\n",
       "      <td>2559</td>\n",
       "    </tr>\n",
       "    <tr>\n",
       "      <th>68</th>\n",
       "      <td>SANTO ANTÔNIO</td>\n",
       "      <td>2262</td>\n",
       "    </tr>\n",
       "    <tr>\n",
       "      <th>8</th>\n",
       "      <td>BONFIM</td>\n",
       "      <td>2223</td>\n",
       "    </tr>\n",
       "  </tbody>\n",
       "</table>\n",
       "</div>"
      ],
      "text/plain": [
       "       neighborhood  count\n",
       "37   JARDIM CAMBURI   6252\n",
       "42      MARIA ORTIZ   4586\n",
       "58      RESISTÊNCIA   3525\n",
       "38  JARDIM DA PENHA   3246\n",
       "65     SANTA MARTHA   2635\n",
       "10           CENTRO   2631\n",
       "35          ITARARÉ   2591\n",
       "77       TABUAZEIRO   2559\n",
       "68    SANTO ANTÔNIO   2262\n",
       "8            BONFIM   2223"
      ]
     },
     "execution_count": 34,
     "metadata": {},
     "output_type": "execute_result"
    }
   ],
   "source": [
    "# Data showing highest number of shows from the neighborhood\n",
    "ShowsNeighborhood = shows.groupby(\"neighborhood\")[\"noshow\"].count().reset_index(name=\"count\").sort_values(\"count\", ascending=False)\n",
    "ShowsNeighborhood.head(10)"
   ]
  },
  {
   "cell_type": "markdown",
   "id": "0d3992c6",
   "metadata": {},
   "source": [
    "Top 10 neighborhoods by shows"
   ]
  },
  {
   "cell_type": "markdown",
   "id": "24651241",
   "metadata": {},
   "source": [
    "## Conclusions:-"
   ]
  },
  {
   "cell_type": "markdown",
   "id": "a66ccc4d",
   "metadata": {},
   "source": [
    "By seeing the above visuals,\n",
    "\n",
    "Most of the patients are making their appointments even though no SMS received.\n",
    "Appointment no-shows occurred the most on Tuesdays and wednesdays and the least on saturdays. It is difficult to draw any conclusions but we can say that we have more no shows on weekdays.\n",
    "Neighborhood in which the appointment took place was charted to see if certain areas saw higher no-show rates. JARDIM CAMBURI and MARIA ORTIZ were the Top 2 neighborhoods in both the no-shows and shows segments. This is likely due to the population of these neighbhorhoods"
   ]
  },
  {
   "cell_type": "markdown",
   "id": "5b924db2",
   "metadata": {},
   "source": [
    "Limitation:-\n",
    "Overlaying external data sources onto this data set such as traffic, weather, or geographic data could allow us to better understand influencers on no-show rates. Right now, the analysis is limited to general correlations.\n",
    "Patients with repeat no-shows would be a good cohort to remove from the analysis to understand environmental or health factors influencing no-shows. This was not done but could improve the integrity of the investigation."
   ]
  },
  {
   "cell_type": "code",
   "execution_count": null,
   "id": "6d5ede91",
   "metadata": {},
   "outputs": [],
   "source": []
  }
 ],
 "metadata": {
  "kernelspec": {
   "display_name": "Python 3 (ipykernel)",
   "language": "python",
   "name": "python3"
  },
  "language_info": {
   "codemirror_mode": {
    "name": "ipython",
    "version": 3
   },
   "file_extension": ".py",
   "mimetype": "text/x-python",
   "name": "python",
   "nbconvert_exporter": "python",
   "pygments_lexer": "ipython3",
   "version": "3.9.12"
  }
 },
 "nbformat": 4,
 "nbformat_minor": 5
}
